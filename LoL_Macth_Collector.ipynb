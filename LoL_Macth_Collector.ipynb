{
 "cells": [
  {
   "cell_type": "markdown",
   "metadata": {},
   "source": [
    "# Collect LoL match frames and save select data to match_id.csv\n",
    "\n",
    "## Methodology\n",
    "The algorithm used is based on [the information here](https://riot-api-libraries.readthedocs.io/en/latest/collectingdata.htmlhttps://riot-api-libraries.readthedocs.io/en/latest/collectingdata.html)\n",
    "1. Get a high ranking summoner by hand. <br>\n",
    "2. Get the account ID of this summoner.<br>\n",
    "3. Get the summoner's match history .<br>\n",
    "4. Get a list of the participants in the summoner's match history\n",
    "5. Append the participants in the queue \n",
    "Success! You have a ton of match IDs, from there, you can fetch their timelines or parse the matches however you want."
   ]
  },
  {
   "cell_type": "code",
   "execution_count": 1,
   "metadata": {},
   "outputs": [],
   "source": [
    "import cassiopeia as cass\n",
    "from cassiopeia.core import Summoner, MatchHistory, Match\n",
    "from cassiopeia import Queue, Patch\n",
    "import random\n",
    "from sortedcontainers import SortedList\n",
    "import arrow\n",
    "import pandas as pd\n",
    "import json\n",
    "from pathlib import Path"
   ]
  },
  {
   "cell_type": "markdown",
   "metadata": {},
   "source": [
    "### Constants API Key, API Region, Output df columns\n",
    "\n",
    "- API Key should be saved in `api_key.txt`\n",
    "- expires in 24 hours, so make sure to renew\n",
    "- API key has rate limit dependant on region"
   ]
  },
  {
   "cell_type": "code",
   "execution_count": 2,
   "metadata": {},
   "outputs": [],
   "source": [
    "# Get API Key from txt file so as not to show it in notebook\n",
    "API_KEY = \"\"\n",
    "with open('api_key.txt', 'r') as file:\n",
    "    API_KEY = file.read().replace('\\n', '')\n",
    "API_REGION = 'RU'\n",
    "df_columns = [\"time\", \"r_kills\", 'b_kills', 'r_towers', 'b_towers', 'r_monsters', 'b_monsters', 'r_ward_kills', 'b_ward_kills']\n",
    "START_PATCH = \"11.1\"     # Patch Released 15/12/2020\n",
    "COLLECTION_LIMIT = 25000 # 25000 matches"
   ]
  },
  {
   "cell_type": "markdown",
   "metadata": {},
   "source": [
    "### Match Collection Functions"
   ]
  },
  {
   "cell_type": "code",
   "execution_count": 5,
   "metadata": {},
   "outputs": [],
   "source": [
    "\n",
    "def get_participants_ids(participants):\n",
    "    \"\"\"Obtain a list of participant IDs from participants\"\"\"\n",
    "    ids = [p.id for p in participants]\n",
    "    return ids\n",
    "\n",
    "\n",
    "def create_row(timestamp,r_kill=0, b_kill=0, r_tower=0, b_tower=0, r_monst=0, b_monst=0,\n",
    "              r_ward_kills=0, b_ward_kills=0):\n",
    "    \"\"\"Create row for dataframe. Returns a list of the data, with missing data zeroed\"\"\"\n",
    "    return [timestamp,r_kill, b_kill, r_tower, b_tower, r_monst, b_monst,  r_ward_kills, b_ward_kills]\n",
    "\n",
    "def parse_frames(frames):\n",
    "    \"\"\"Parse match frames. Returns list of parsed data\n",
    "    \n",
    "    Currently, only CHAMPION_KILL, BUILDING_KILL, ELITE_MONSTER_KILL and WARD_KILL are parsed \"\"\"\n",
    "    df = []\n",
    "    for frame in frames:\n",
    "        for event in frame.events:\n",
    "            time_s = event.timestamp.seconds//60\n",
    "            if(event.type == 'CHAMPION_KILL'):\n",
    "                if(event.killer_id < 6):\n",
    "                    #Blue team\n",
    "                    df.append(create_row(timestamp=time_s, b_kill=1))\n",
    "                else:\n",
    "                    df.append(create_row(timestamp=time_s, r_kill=1))\n",
    "            elif(event.type == 'BUILDING_KILL'):\n",
    "                if(event.to_dict()['buildingType'] == 'TOWER_BUILDING'): #somehow event.buildingType not working\n",
    "                    if(event.killer_id < 6):\n",
    "                        #Blue team\n",
    "                        df.append(create_row(timestamp=time_s, b_tower=1))#red tower destroyed!!\n",
    "                    else:\n",
    "                        df.append(create_row(timestamp=time_s, r_tower=1))#blue tower destroyed!!\n",
    "            elif(event.type == 'ELITE_MONSTER_KILL'): \n",
    "                if(event.killer_id < 6):\n",
    "                        #Blue team\n",
    "                    df.append(create_row(timestamp=time_s, b_monst=1))#red tower destroyed!!\n",
    "                else:\n",
    "                    df.append(create_row(timestamp=time_s, r_monst=1))#blue tower destroyed!!\n",
    "            elif(event.type == 'WARD_KILL'): \n",
    "                if(event.killer_id < 6):\n",
    "                        #Blue team\n",
    "                    df.append(create_row(timestamp=time_s, b_ward_kills=1))#red tower destroyed!!\n",
    "                else:\n",
    "                    df.append(create_row(timestamp=time_s, r_ward_kills=1))#blue tower destroyed!!\n",
    "    return df\n",
    "\n",
    "def match_make_save_dir(region):\n",
    "    \"\"\" Make save directory of match by region by region \"\"\"\n",
    "    path = 'lol_matches/'+ region\n",
    "    csv_path = 'lol_matches/'+ region + '/csv'\n",
    "    raw_json_path = 'lol_matches/'+ region +'/raw_json'\n",
    "    Path(csv_path).mkdir(parents=True, exist_ok=True)\n",
    "    Path(raw_json_path).mkdir(parents=True, exist_ok=True)\n",
    "    return path, csv_path, raw_json_path\n",
    "\n",
    "def match_data_to_csv(match_id, data, blue_win, path, columns=df_columns):\n",
    "    \"\"\" Save match data as csv \"\"\"\n",
    "    df = pd.DataFrame(data=data, columns = columns)\n",
    "    df = df.groupby(by='time').sum().reset_index()\n",
    "    for name ,col  in df.iteritems():\n",
    "        if (name != 'time'):\n",
    "            df[name] = col.cumsum()\n",
    "    df['Match_ID'] = match_id\n",
    "    df['Win'] = blue_win\n",
    "    \n",
    "    file_path = path +'/' + str(match_id) + '.csv'\n",
    "    df.to_csv(file_path)\n",
    "    return df\n",
    "\n",
    "#def match_save_csv(df, match_id, path):\n",
    "#    df.to_csv(path +'/' + str(match_id) + '.csv' )\n",
    "    \n",
    "def match_timeline_to_json(match, path):\n",
    "    \"\"\" Save match timeline as json \"\"\"\n",
    "    \n",
    "    json_data = match.timeline.to_json()\n",
    "    file_path = path  + '/' + str(match.id) + '.json'\n",
    "    \n",
    "    with open(file_path, 'w+') as out_json:\n",
    "        json.dump(json_data, out_json) \n",
    "        \n",
    "def match_save_id(match_id, path):\n",
    "    \"\"\" Save parsed match ids so that we dont repeat \"\"\"\n",
    "    \n",
    "    with open(path+'/parsed.txt', \"a+\") as file:\n",
    "        file.write(str(match_id) + '\\n')\n",
    "        \n",
    "def get_parsed_match_ids(path):\n",
    "    \"\"\" Read parsed match ids\"\"\"\n",
    "    file = path + '/parsed.txt'\n",
    "    parsed_ids = []\n",
    "    with open(file) as f:\n",
    "        for line in f:\n",
    "            parsed_ids.append(int(line))\n",
    "    return parsed_ids"
   ]
  },
  {
   "cell_type": "code",
   "execution_count": 6,
   "metadata": {},
   "outputs": [],
   "source": [
    "def init_cass(api_key, region):\n",
    "    \"\"\"Initialize csseiopia API\"\"\"\n",
    "    \n",
    "    assert api_key != \"\", \"Please set the API key in the api_key.txt file\"\n",
    "        \n",
    "    cass.set_riot_api_key(api_key)  # This overrides the value set in your configuration/settings.\n",
    "    cass.set_default_region(region)\n",
    "\n",
    "def filter_match_history(summoner, patch):\n",
    "    \"\"\"Filter summoners match history by patch date\"\"\"\n",
    "    #end_time = patch.end\n",
    "    #if end_time is None:\n",
    "    end_time = arrow.now()\n",
    "    match_history = MatchHistory(summoner=summoner, queues={Queue.aram}, begin_time=patch.start, end_time=end_time)\n",
    "    print(\"Sommoner {} match history length: \\t{}\" .format(summoner.name,len(match_history)))\n",
    "    return match_history\n",
    "\n",
    "\n",
    "def collect_matches(initial_summoner_name = \"Little Mandiocaa\", region = API_REGION, patch_str = START_PATCH):\n",
    "    \"\"\" Main function to collect matches \"\"\"\n",
    "    \n",
    "    summoner = Summoner(name=initial_summoner_name, region=region)\n",
    "    patch = Patch.from_str(patch_str, region=region)\n",
    "\n",
    "    unpulled_summoner_ids = SortedList([summoner.id])\n",
    "    pulled_summoner_ids = SortedList()\n",
    "\n",
    "    unpulled_match_ids = SortedList()\n",
    "    pulled_match_ids = SortedList()\n",
    "    root_path, csv_path, raw_json_path  = match_make_save_dir(region=region)\n",
    "    collection_ctr = 0\n",
    "    \n",
    "    # Get list of previously parsed matches\n",
    "    parsed_match_ids = get_parsed_match_ids(root_path)\n",
    "    \n",
    "    while unpulled_summoner_ids:\n",
    "        # Get a random summoner from our list of unpulled summoners and pull their match history\n",
    "        new_summoner_id = random.choice(unpulled_summoner_ids)\n",
    "        new_summoner = Summoner(id=new_summoner_id, region=region)\n",
    "        matches = filter_match_history(new_summoner, patch)\n",
    "        unpulled_match_ids.update([match.id for match in matches if not match.id in parsed_match_ids])\n",
    "        unpulled_summoner_ids.remove(new_summoner_id)\n",
    "        pulled_summoner_ids.add(new_summoner_id)\n",
    "\n",
    "        while unpulled_match_ids:\n",
    "            # Get a random match from our list of matches\n",
    "            new_match_id = random.choice(unpulled_match_ids)\n",
    "            new_match = Match(id=new_match_id, region=region)\n",
    "            for participant in new_match.participants:\n",
    "                if ((participant.summoner.id not in pulled_summoner_ids) & \n",
    "                    (participant.summoner.id not in unpulled_summoner_ids)):\n",
    "                        \n",
    "                    unpulled_summoner_ids.add(participant.summoner.id)\n",
    "            # The above lines will trigger the match to load its data by iterating over all the participants.\n",
    "            # If you have a database in your datapipeline, the match will automatically be stored in it.\n",
    "            unpulled_match_ids.remove(new_match_id)\n",
    "            pulled_match_ids.add(new_match_id)\n",
    "            \n",
    "            # Parse the match frames\n",
    "            data = parse_frames(new_match.timeline.frames)\n",
    "            \n",
    "            # Save csv\n",
    "            match_data_to_csv(match_id=new_match.id, \n",
    "                              data=data, \n",
    "                              blue_win=int(new_match.blue_team.win),\n",
    "                              path=csv_path)\n",
    "            # Save raw match data\n",
    "            match_timeline_to_json(new_match, raw_json_path)\n",
    "            \n",
    "            # Save the match id ie that we've been here :)\n",
    "            match_save_id(new_match.id, root_path)\n",
    "            \n",
    "            collection_ctr = collection_ctr + 1\n",
    "            if(collection_ctr%100 == 0):\n",
    "                print(\"Number of collected matches: {}\" .format(collection_ctr))\n",
    "            if(collection_ctr > COLLECTION_LIMIT):\n",
    "                return"
   ]
  },
  {
   "cell_type": "markdown",
   "metadata": {},
   "source": [
    "## Start the match collection"
   ]
  },
  {
   "cell_type": "code",
   "execution_count": null,
   "metadata": {},
   "outputs": [],
   "source": [
    "initial_summoner_name_ru = \"Огненный шторм\"\n",
    "summoner_region_ru = \"RU\"\n",
    "\n",
    "initial_summoner_name_br = \"Little Mandiocaa\"\n",
    "summoner_region_br = \"BR\"\n",
    "\n",
    "initial_summoner_name_na = \"From Iron\"\n",
    "summoner_region_na = \"NA\"\n",
    "\n",
    "initial_summoner_name_eune = \"Necromartin\"\n",
    "summoner_region_eune = \"EUNE\""
   ]
  },
  {
   "cell_type": "code",
   "execution_count": null,
   "metadata": {},
   "outputs": [],
   "source": [
    "init_cass(API_KEY, \"EUW\")"
   ]
  },
  {
   "cell_type": "code",
   "execution_count": null,
   "metadata": {},
   "outputs": [],
   "source": [
    "#collect_matches(initial_summoner_name = \"Slaytеr\" , region = summoner_region_ru, patch_str = \"11.1\")"
   ]
  },
  {
   "cell_type": "code",
   "execution_count": null,
   "metadata": {},
   "outputs": [],
   "source": [
    "#collect_matches(initial_summoner_name = \"wintradeaccount0\" , region = summoner_region_ru, patch_str = \"11.1\")"
   ]
  },
  {
   "cell_type": "code",
   "execution_count": null,
   "metadata": {
    "scrolled": true,
    "tags": []
   },
   "outputs": [],
   "source": [
    "try:\n",
    "    collect_matches(initial_summoner_name = \"SCHWARZFAUST\" , region = summoner_region_ru, patch_str = \"11.1\")\n",
    "except:\n",
    "    pass"
   ]
  },
  {
   "cell_type": "code",
   "execution_count": 22,
   "metadata": {
    "scrolled": true,
    "tags": []
   },
   "outputs": [
    {
     "name": "stdout",
     "output_type": "stream",
     "text": [
      "Making call: https://ru.api.riotgames.com/lol/summoner/v4/summoners/by-name/JaxLord69\n",
      "Making call: https://ru.api.riotgames.com/lol/summoner/v4/summoners/-29DOOH_rG26LqRwV7LENHD3pRAMKrIC_GUc5gbTO4hitw\n",
      "Making call: https://ru.api.riotgames.com/lol/match/v4/matchlists/by-account/zPBgBLcsvXhtXFqxuWVxcyk-UQHe2L9u2o2hIfJ9WLepf4k?beginIndex=0&endIndex=100&queue=450\n",
      "Sommoner JaxLord69 match history length: \t37\n"
     ]
    }
   ],
   "source": [
    "try:\n",
    "    collect_matches(initial_summoner_name = \"JaxLord69\" , region = summoner_region_ru, patch_str = \"11.1\")\n",
    "except:\n",
    "    pass"
   ]
  },
  {
   "cell_type": "code",
   "execution_count": 20,
   "metadata": {
    "scrolled": true,
    "tags": []
   },
   "outputs": [
    {
     "name": "stdout",
     "output_type": "stream",
     "text": [
      "Making call: https://na1.api.riotgames.com/lol/summoner/v4/summoners/by-name/JaxLord69\n"
     ]
    }
   ],
   "source": [
    "try:\n",
    "    collect_matches(initial_summoner_name = \"JaxLord69\" , region = summoner_region_na, patch_str = \"11.1\")\n",
    "except:\n",
    "    pass"
   ]
  },
  {
   "cell_type": "code",
   "execution_count": 21,
   "metadata": {
    "scrolled": true,
    "tags": []
   },
   "outputs": [],
   "source": [
    "try:\n",
    "    collect_matches(initial_summoner_name = \"FLY Josédeodo\" , region = summoner_region_na, patch_str = \"11.1\")\n",
    "except:\n",
    "    pass\n"
   ]
  },
  {
   "cell_type": "code",
   "execution_count": 12,
   "metadata": {},
   "outputs": [
    {
     "name": "stdout",
     "output_type": "stream",
     "text": [
      "Making call: https://br1.api.riotgames.com/lol/summoner/v4/summoners/by-name/LittleMandiocaa\n"
     ]
    }
   ],
   "source": [
    "try:\n",
    "    collect_matches(initial_summoner_name = initial_summoner_name_br, region = summoner_region_br, patch_str = \"11.1\")\n",
    "except:\n",
    "    pass"
   ]
  },
  {
   "cell_type": "code",
   "execution_count": 13,
   "metadata": {},
   "outputs": [
    {
     "name": "stdout",
     "output_type": "stream",
     "text": [
      "Making call: https://br1.api.riotgames.com/lol/summoner/v4/summoners/by-name/Reziw\n"
     ]
    }
   ],
   "source": [
    "try:\n",
    "    collect_matches(initial_summoner_name = \"Reziw\" , region = summoner_region_br, patch_str = \"11.1\")\n",
    "except:\n",
    "    pass"
   ]
  },
  {
   "cell_type": "code",
   "execution_count": 18,
   "metadata": {},
   "outputs": [],
   "source": [
    "try:\n",
    "    collect_matches(initial_summoner_name = \"DR1PLEX\" , region = \"EUW\", patch_str = \"11.1\")\n",
    "except:\n",
    "    pass"
   ]
  },
  {
   "cell_type": "code",
   "execution_count": 19,
   "metadata": {},
   "outputs": [],
   "source": [
    "try:\n",
    "    collect_matches(initial_summoner_name = \"Meruem12\" , region = \"EUW\", patch_str = \"11.1\")\n",
    "except:\n",
    "    pass"
   ]
  },
  {
   "cell_type": "code",
   "execution_count": null,
   "metadata": {},
   "outputs": [],
   "source": []
  }
 ],
 "metadata": {
  "kernelspec": {
   "display_name": "Python 3",
   "language": "python",
   "name": "python3"
  },
  "language_info": {
   "codemirror_mode": {
    "name": "ipython",
    "version": 3
   },
   "file_extension": ".py",
   "mimetype": "text/x-python",
   "name": "python",
   "nbconvert_exporter": "python",
   "pygments_lexer": "ipython3",
   "version": "3.8.6"
  }
 },
 "nbformat": 4,
 "nbformat_minor": 4
}
